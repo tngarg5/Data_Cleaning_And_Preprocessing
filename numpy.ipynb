{
  "nbformat": 4,
  "nbformat_minor": 0,
  "metadata": {
    "colab": {
      "provenance": []
    },
    "kernelspec": {
      "name": "python3",
      "display_name": "Python 3"
    },
    "language_info": {
      "name": "python"
    }
  },
  "cells": [
    {
      "cell_type": "markdown",
      "source": [
        "# ndArray : Creation and Properties"
      ],
      "metadata": {
        "id": "HLiIsmuyiM6e"
      }
    },
    {
      "cell_type": "code",
      "execution_count": 42,
      "metadata": {
        "id": "gSwJyu5YEbU-"
      },
      "outputs": [],
      "source": [
        "import numpy as np\n",
        " #1d array\n",
        "array1  = np.array([1,2,3,4])#dtype :int64\n",
        "a2 = np.array(['a','b',2,4]) # dtype: U21\n",
        "a3 =np.array([\"fjir\",\"bjd\"]) #U4\n",
        "a4 = np.array(['a','b','c']) #u1\n",
        "a5 =np.array([1.2,2.4,6.7]) #float64\n",
        "a6 =np.array([1,2.4,6.7]) #float64\n",
        "a7 =np.array([1, 2 ,6.7]) #float64"
      ]
    },
    {
      "cell_type": "code",
      "source": [
        "#dtype\n",
        "print(array1.dtype)\n",
        "print(a2.dtype)\n",
        "print(a3.dtype)\n",
        "print(a4.dtype)\n",
        "print(a5.dtype)\n",
        "print(a6.dtype)\n",
        "print(a7.dtype)"
      ],
      "metadata": {
        "colab": {
          "base_uri": "https://localhost:8080/"
        },
        "id": "4--tAMC-IY3T",
        "outputId": "ce157829-5f84-40e3-9959-7f763ee9f18c"
      },
      "execution_count": 43,
      "outputs": [
        {
          "output_type": "stream",
          "name": "stdout",
          "text": [
            "int64\n",
            "<U21\n",
            "<U4\n",
            "<U1\n",
            "float64\n",
            "float64\n",
            "float64\n"
          ]
        }
      ]
    },
    {
      "cell_type": "code",
      "source": [
        "#dimensions of the array can be obtained by using ndim\n",
        "print(array1.ndim)\n",
        "\n",
        "#shape:(= length of each dimension) of the NumPy array as a tuple\n",
        "print(array1.shape)\n",
        "#size: (= total number of elements) of the NumPy array\n",
        "print(array1.size)\n",
        "#dtype: gives datatype of the array\n",
        "#len() returns the size of the first dimension. Equivalent to shape[0]\n",
        "print(len(array1))\n",
        "print(array1.shape[0])"
      ],
      "metadata": {
        "colab": {
          "base_uri": "https://localhost:8080/"
        },
        "id": "Xk5Sr8oMEp5a",
        "outputId": "d5cf7e28-3808-4f80-c8aa-b15369af2f8c"
      },
      "execution_count": 44,
      "outputs": [
        {
          "output_type": "stream",
          "name": "stdout",
          "text": [
            "1\n",
            "(4,)\n",
            "4\n",
            "4\n",
            "4\n"
          ]
        }
      ]
    },
    {
      "cell_type": "code",
      "source": [
        "# 2D Array\n",
        "twoD = np.array([[2,3],[4,5]])\n",
        "twoD"
      ],
      "metadata": {
        "colab": {
          "base_uri": "https://localhost:8080/"
        },
        "id": "VGDothwdF944",
        "outputId": "b6a243ef-fd88-4d64-9958-9e2ae339713b"
      },
      "execution_count": 45,
      "outputs": [
        {
          "output_type": "execute_result",
          "data": {
            "text/plain": [
              "array([[2, 3],\n",
              "       [4, 5]])"
            ]
          },
          "metadata": {},
          "execution_count": 45
        }
      ]
    },
    {
      "cell_type": "code",
      "source": [
        "print(twoD.ndim)\n",
        "print(twoD.shape)\n",
        "print(twoD.size)\n",
        "print(twoD.dtype)\n",
        "print(len(twoD))\n",
        "print(twoD.shape[0])\n"
      ],
      "metadata": {
        "colab": {
          "base_uri": "https://localhost:8080/"
        },
        "id": "-fnWw3L7GmXP",
        "outputId": "615d88b6-7daf-4cb2-e98c-63f4a8be3edf"
      },
      "execution_count": 46,
      "outputs": [
        {
          "output_type": "stream",
          "name": "stdout",
          "text": [
            "2\n",
            "(2, 2)\n",
            "4\n",
            "int64\n",
            "2\n",
            "2\n"
          ]
        }
      ]
    },
    {
      "cell_type": "code",
      "source": [
        "#3d array\n",
        "d3 = np.array([[[2,3,5],[4,5,6]],[[2,3,5],[4,5,6]]])\n",
        "d3"
      ],
      "metadata": {
        "colab": {
          "base_uri": "https://localhost:8080/"
        },
        "id": "vN0mAQ6MGzw_",
        "outputId": "148b697c-5619-434a-dc9f-6a9e153e27cb"
      },
      "execution_count": 47,
      "outputs": [
        {
          "output_type": "execute_result",
          "data": {
            "text/plain": [
              "array([[[2, 3, 5],\n",
              "        [4, 5, 6]],\n",
              "\n",
              "       [[2, 3, 5],\n",
              "        [4, 5, 6]]])"
            ]
          },
          "metadata": {},
          "execution_count": 47
        }
      ]
    },
    {
      "cell_type": "code",
      "source": [
        "print(d3.ndim)\n",
        "print(d3.shape)\n",
        "print(d3.size)\n",
        "print(d3.dtype)\n",
        "print(len(d3))\n",
        "print(d3.shape[0])"
      ],
      "metadata": {
        "colab": {
          "base_uri": "https://localhost:8080/"
        },
        "id": "DZCEZXnfHspb",
        "outputId": "3c95e7fc-651e-4483-c851-fac63996fd04"
      },
      "execution_count": 48,
      "outputs": [
        {
          "output_type": "stream",
          "name": "stdout",
          "text": [
            "3\n",
            "(2, 2, 3)\n",
            "12\n",
            "int64\n",
            "2\n",
            "2\n"
          ]
        }
      ]
    },
    {
      "cell_type": "code",
      "source": [
        "t3 = np.array([(1,'a',3.0),(2,'b',3.5)]) \n",
        "t3"
      ],
      "metadata": {
        "colab": {
          "base_uri": "https://localhost:8080/"
        },
        "id": "bnKJru7qI4mq",
        "outputId": "35448797-12a1-41da-ce63-7847fb3e26b6"
      },
      "execution_count": 49,
      "outputs": [
        {
          "output_type": "execute_result",
          "data": {
            "text/plain": [
              "array([['1', 'a', '3.0'],\n",
              "       ['2', 'b', '3.5']], dtype='<U32')"
            ]
          },
          "metadata": {},
          "execution_count": 49
        }
      ]
    },
    {
      "cell_type": "code",
      "source": [
        "print(t3.ndim)\n",
        "print(t3.shape)\n",
        "print(t3.size)\n",
        "print(t3.dtype)\n",
        "print(len(t3))\n",
        "print(t3.shape[0])"
      ],
      "metadata": {
        "colab": {
          "base_uri": "https://localhost:8080/"
        },
        "id": "C3kYNW8FH3Cy",
        "outputId": "1fea26f5-c089-485b-a88b-748c36673394"
      },
      "execution_count": 50,
      "outputs": [
        {
          "output_type": "stream",
          "name": "stdout",
          "text": [
            "2\n",
            "(2, 3)\n",
            "6\n",
            "<U32\n",
            "2\n",
            "2\n"
          ]
        }
      ]
    },
    {
      "cell_type": "markdown",
      "source": [
        "# Random Array creation methods\n",
        "* uniform\n",
        "* normal\n",
        "* range with step\n",
        "* equally seperated\n",
        "* reshape to another form\n",
        "* linespace \n",
        "* logspace"
      ],
      "metadata": {
        "id": "Wn2s6w3micl_"
      }
    },
    {
      "cell_type": "code",
      "source": [
        "#random numbers from a uniform distribution between [0,1]\n",
        "print(np.random.rand(5))\n",
        "#normal distribution\n",
        "print(np.random.randn(5))\n",
        "#integer btwn -10 and 10 with size 2\n",
        "print(np.arange(-10,10,2))\n",
        "#2-dimensional array of integers from 0 to 11'\n",
        "print(np.arange(12).reshape(3,4)) # reshape to a matrix\n",
        "# split interval [0,1] into 10 equally separated values\n",
        "print(np.linspace(0,1,10))\n",
        " # create ndarray with values from 10^-3 to 10^3\n",
        "print(np.logspace(-3,3,7)) \n"
      ],
      "metadata": {
        "colab": {
          "base_uri": "https://localhost:8080/"
        },
        "id": "1WO7iKv6Mxsm",
        "outputId": "8cea1d48-ba21-483d-b855-fbb6cfde8d8a"
      },
      "execution_count": 51,
      "outputs": [
        {
          "output_type": "stream",
          "name": "stdout",
          "text": [
            "[0.97659021 0.83463433 0.59132204 0.54054091 0.76936867]\n",
            "[ 0.96176407  1.70759998 -0.25945682 -1.30173686  0.60093783]\n",
            "[-10  -8  -6  -4  -2   0   2   4   6   8]\n",
            "[[ 0  1  2  3]\n",
            " [ 4  5  6  7]\n",
            " [ 8  9 10 11]]\n",
            "[0.         0.11111111 0.22222222 0.33333333 0.44444444 0.55555556\n",
            " 0.66666667 0.77777778 0.88888889 1.        ]\n",
            "[1.e-03 1.e-02 1.e-01 1.e+00 1.e+01 1.e+02 1.e+03]\n"
          ]
        }
      ]
    },
    {
      "cell_type": "markdown",
      "source": [
        "# MATRIX: zeros, ones, identity"
      ],
      "metadata": {
        "id": "MxdcGPs8jWQK"
      }
    },
    {
      "cell_type": "code",
      "source": [
        "print('A 2 x 3 matrix of zeros')\n",
        "print(np.zeros((2,3)))        # a matrix of zeros\n",
        "\n",
        "print('\\nA 3 x 2 matrix of ones')\n",
        "print(np.ones((3,2)))         # a matrix of ones\n",
        "\n",
        "print('\\nA 3 x 3 identity matrix')\n",
        "print(np.eye(3))              # a 3 x 3 identity matrix"
      ],
      "metadata": {
        "colab": {
          "base_uri": "https://localhost:8080/"
        },
        "id": "ykrZtki2OcCx",
        "outputId": "4a4dc45e-3f78-4242-e343-970ba2dc6070"
      },
      "execution_count": 52,
      "outputs": [
        {
          "output_type": "stream",
          "name": "stdout",
          "text": [
            "A 2 x 3 matrix of zeros\n",
            "[[0. 0. 0.]\n",
            " [0. 0. 0.]]\n",
            "\n",
            "A 3 x 2 matrix of ones\n",
            "[[1. 1.]\n",
            " [1. 1.]\n",
            " [1. 1.]]\n",
            "\n",
            "A 3 x 3 identity matrix\n",
            "[[1. 0. 0.]\n",
            " [0. 1. 0.]\n",
            " [0. 0. 1.]]\n"
          ]
        }
      ]
    },
    {
      "cell_type": "markdown",
      "source": [
        "#Elementwise Operations"
      ],
      "metadata": {
        "id": "YHvjKzT5h-24"
      }
    },
    {
      "cell_type": "code",
      "source": [
        "# single element operations\n",
        "x = np.array([1,2,3,4,6])\n",
        "print(x+1)\n",
        "print(x-6)\n",
        "print(x*9)\n",
        "print(x/2)\n",
        "print(x % 1)\n",
        "print(x//2)"
      ],
      "metadata": {
        "colab": {
          "base_uri": "https://localhost:8080/"
        },
        "id": "NOKgxE-XWPHY",
        "outputId": "804303b3-199a-4f28-a3d0-879fd5cab2aa"
      },
      "execution_count": 53,
      "outputs": [
        {
          "output_type": "stream",
          "name": "stdout",
          "text": [
            "[2 3 4 5 7]\n",
            "[-5 -4 -3 -2  0]\n",
            "[ 9 18 27 36 54]\n",
            "[0.5 1.  1.5 2.  3. ]\n",
            "[0 0 0 0 0]\n",
            "[0 1 1 2 3]\n"
          ]
        }
      ]
    },
    {
      "cell_type": "code",
      "source": [
        "# operations between 2 arrays\n",
        "y = np.random.rand(5)\n",
        "print(x+y)\n",
        "print(x-y)\n",
        "print(x*y)\n",
        "print(x/y)\n",
        "print(x//y)\n",
        "print(x%y)"
      ],
      "metadata": {
        "colab": {
          "base_uri": "https://localhost:8080/"
        },
        "id": "JrKXY0C3j3XF",
        "outputId": "739fb2c6-e16d-4f18-85ca-73cac10b870d"
      },
      "execution_count": 54,
      "outputs": [
        {
          "output_type": "stream",
          "name": "stdout",
          "text": [
            "[1.01151063 2.49970651 3.4957046  4.50446955 6.24935174]\n",
            "[0.98848937 1.50029349 2.5042954  3.49553045 5.75064826]\n",
            "[0.01151063 0.99941302 1.48711381 2.01787819 1.49611042]\n",
            "[86.87620462  4.00234932  6.05199142  7.92912082 24.06239503]\n",
            "[86.  4.  6.  7. 24.]\n",
            "[0.01008567 0.00117397 0.02577239 0.46871316 0.01555831]\n"
          ]
        }
      ]
    },
    {
      "cell_type": "markdown",
      "source": [
        "# Indexing and Slicing"
      ],
      "metadata": {
        "id": "wi_SaRWSB2a3"
      }
    },
    {
      "cell_type": "code",
      "source": [
        "#Indexing and Slicing\n",
        "p = np.arange(-5,5)\n",
        "q =  p[1:4] #slicing\n",
        "print(p)\n",
        "print(q) \n",
        "q[:] = 1000 # call by refrence happens\n",
        "print(p)\n",
        "print(q)\n",
        "\n",
        "z = p[1:4].copy()\n",
        "print(z)\n",
        "z[:] = 500 # here call by value action takes place(after using copy())\n",
        "print(z)\n",
        "print(p)"
      ],
      "metadata": {
        "colab": {
          "base_uri": "https://localhost:8080/"
        },
        "id": "7FsxPgXFAPZA",
        "outputId": "3eee4545-eca1-458c-c78a-e1698123276f"
      },
      "execution_count": 55,
      "outputs": [
        {
          "output_type": "stream",
          "name": "stdout",
          "text": [
            "[-5 -4 -3 -2 -1  0  1  2  3  4]\n",
            "[-4 -3 -2]\n",
            "[  -5 1000 1000 1000   -1    0    1    2    3    4]\n",
            "[1000 1000 1000]\n",
            "[1000 1000 1000]\n",
            "[500 500 500]\n",
            "[  -5 1000 1000 1000   -1    0    1    2    3    4]\n"
          ]
        }
      ]
    },
    {
      "cell_type": "markdown",
      "source": [
        "# Access elements of nd array"
      ],
      "metadata": {
        "id": "VAoSoOyrCyDP"
      }
    },
    {
      "cell_type": "code",
      "source": [
        "d2 = np.array([[2,3],[4,5],[5,7]])\n",
        "d2"
      ],
      "metadata": {
        "colab": {
          "base_uri": "https://localhost:8080/"
        },
        "id": "PBNPicH4BDaS",
        "outputId": "a0653486-0235-4b66-c56d-76199316ce1a"
      },
      "execution_count": 56,
      "outputs": [
        {
          "output_type": "execute_result",
          "data": {
            "text/plain": [
              "array([[2, 3],\n",
              "       [4, 5],\n",
              "       [5, 7]])"
            ]
          },
          "metadata": {},
          "execution_count": 56
        }
      ]
    },
    {
      "cell_type": "code",
      "source": [
        "d2[2] # gives 3rd row"
      ],
      "metadata": {
        "colab": {
          "base_uri": "https://localhost:8080/"
        },
        "id": "XlnHgqDNG3ch",
        "outputId": "627ba88c-df99-4750-ee66-a05ee01f4df6"
      },
      "execution_count": 57,
      "outputs": [
        {
          "output_type": "execute_result",
          "data": {
            "text/plain": [
              "array([5, 7])"
            ]
          },
          "metadata": {},
          "execution_count": 57
        }
      ]
    },
    {
      "cell_type": "code",
      "source": [
        "d2[:][2] # 3rd row"
      ],
      "metadata": {
        "colab": {
          "base_uri": "https://localhost:8080/"
        },
        "id": "nKwev2h2HBaZ",
        "outputId": "ed48cb7b-6510-40a0-bb54-c636dced71cc"
      },
      "execution_count": 58,
      "outputs": [
        {
          "output_type": "execute_result",
          "data": {
            "text/plain": [
              "array([5, 7])"
            ]
          },
          "metadata": {},
          "execution_count": 58
        }
      ]
    },
    {
      "cell_type": "code",
      "source": [
        "d2[:,1] # acess column value"
      ],
      "metadata": {
        "colab": {
          "base_uri": "https://localhost:8080/"
        },
        "id": "mz92mXq0HEz8",
        "outputId": "6621e4e6-bf7f-49cf-8886-dac9f697fa13"
      },
      "execution_count": 59,
      "outputs": [
        {
          "output_type": "execute_result",
          "data": {
            "text/plain": [
              "array([3, 5, 7])"
            ]
          },
          "metadata": {},
          "execution_count": 59
        }
      ]
    },
    {
      "cell_type": "code",
      "source": [
        "d2[1:,] # rows 1 and 2 not 0"
      ],
      "metadata": {
        "colab": {
          "base_uri": "https://localhost:8080/"
        },
        "id": "gsDfYikiHIjS",
        "outputId": "2bb944ad-4245-4c52-e4ba-bbf94fd44aa4"
      },
      "execution_count": 60,
      "outputs": [
        {
          "output_type": "execute_result",
          "data": {
            "text/plain": [
              "array([[4, 5],\n",
              "       [5, 7]])"
            ]
          },
          "metadata": {},
          "execution_count": 60
        }
      ]
    },
    {
      "cell_type": "code",
      "source": [
        "d2[1,:] # only row 1"
      ],
      "metadata": {
        "colab": {
          "base_uri": "https://localhost:8080/"
        },
        "id": "Bqde9ireHcXw",
        "outputId": "e71dbd28-82c2-416b-a995-7b5133366810"
      },
      "execution_count": 61,
      "outputs": [
        {
          "output_type": "execute_result",
          "data": {
            "text/plain": [
              "array([4, 5])"
            ]
          },
          "metadata": {},
          "execution_count": 61
        }
      ]
    },
    {
      "cell_type": "code",
      "source": [
        "d2[:2,:1] # 0,1 ROW and 0 column"
      ],
      "metadata": {
        "colab": {
          "base_uri": "https://localhost:8080/"
        },
        "id": "HsEk5UJAHh-A",
        "outputId": "1fd9353d-4f5c-430f-8977-2e9b5781b927"
      },
      "execution_count": 62,
      "outputs": [
        {
          "output_type": "execute_result",
          "data": {
            "text/plain": [
              "array([[2],\n",
              "       [4]])"
            ]
          },
          "metadata": {},
          "execution_count": 62
        }
      ]
    },
    {
      "cell_type": "markdown",
      "source": [
        "# Linear Algebra"
      ],
      "metadata": {
        "id": "jMdThnjtH3t8"
      }
    },
    {
      "cell_type": "code",
      "source": [
        "# Genrate random matrix\n",
        "x = np.random.randn(3) #vector of order 1*3\n",
        "y = np.random.rand(3,3) # 3*3 \n",
        "print(x)\n",
        "print(y)"
      ],
      "metadata": {
        "colab": {
          "base_uri": "https://localhost:8080/"
        },
        "id": "aG4yfQZhH3Vd",
        "outputId": "810b61d3-1250-4fc3-de8c-3602f5b58314"
      },
      "execution_count": 63,
      "outputs": [
        {
          "output_type": "stream",
          "name": "stdout",
          "text": [
            "[-1.77291871 -0.59452823 -0.04610787]\n",
            "[[3.20524305e-04 2.44293566e-01 1.92455553e-01]\n",
            " [9.43634052e-01 3.19730303e-01 2.32871537e-02]\n",
            " [3.18293392e-01 7.24404333e-02 5.32524623e-01]]\n"
          ]
        }
      ]
    },
    {
      "cell_type": "code",
      "source": [
        "# Transpose of a matrix\n",
        "print(x.T) # not transposed : handled automatically during calculations\n",
        "print(y.T) # transposed"
      ],
      "metadata": {
        "colab": {
          "base_uri": "https://localhost:8080/"
        },
        "id": "xTYoXMpjHuVK",
        "outputId": "a1f718d4-3cef-4082-ae7d-9d2fd5454def"
      },
      "execution_count": 64,
      "outputs": [
        {
          "output_type": "stream",
          "name": "stdout",
          "text": [
            "[-1.77291871 -0.59452823 -0.04610787]\n",
            "[[3.20524305e-04 9.43634052e-01 3.18293392e-01]\n",
            " [2.44293566e-01 3.19730303e-01 7.24404333e-02]\n",
            " [1.92455553e-01 2.32871537e-02 5.32524623e-01]]\n"
          ]
        }
      ]
    },
    {
      "cell_type": "code",
      "source": [
        "# matrix-vector multiplication\n",
        "print(y.dot(x))\n",
        "print(x.dot(y))"
      ],
      "metadata": {
        "colab": {
          "base_uri": "https://localhost:8080/"
        },
        "id": "9XetJKQlI8Fg",
        "outputId": "282ef9c7-1a37-41bd-cb29-567beab0a908"
      },
      "execution_count": 67,
      "outputs": [
        {
          "output_type": "stream",
          "name": "stdout",
          "text": [
            "[-0.1546814  -1.86414888 -0.63192977]\n",
            "[-0.57626118 -0.6265414  -0.3796065 ]\n"
          ]
        }
      ]
    },
    {
      "cell_type": "code",
      "source": [
        "#matrix-matrix product/square\n",
        "x.T.dot(x)\n"
      ],
      "metadata": {
        "colab": {
          "base_uri": "https://localhost:8080/"
        },
        "id": "xXk3pKLIJovA",
        "outputId": "9675c4e8-f411-4e04-8c05-a8f7effe3110"
      },
      "execution_count": 68,
      "outputs": [
        {
          "output_type": "execute_result",
          "data": {
            "text/plain": [
              "3.4988305207445998"
            ]
          },
          "metadata": {},
          "execution_count": 68
        }
      ]
    },
    {
      "cell_type": "code",
      "source": [
        "#Inverse\n",
        "print(np.linalg.inv(y))\n",
        "#determinant\n",
        "print(np.linalg.det(y))\n",
        "#Eigen value and vector\n",
        "s,u = np.linalg.eig(y)\n",
        "print(s)\n",
        "print(u)"
      ],
      "metadata": {
        "colab": {
          "base_uri": "https://localhost:8080/"
        },
        "id": "mVydG5zHKm2D",
        "outputId": "1e34ef19-0e22-4cc8-ec5e-9f72053be0d2"
      },
      "execution_count": 72,
      "outputs": [
        {
          "output_type": "stream",
          "name": "stdout",
          "text": [
            "[[-1.32399362  0.91223943  0.43860219]\n",
            " [ 3.88844839  0.4797699  -1.42627388]\n",
            " [ 0.26240577 -0.61051547  1.8097111 ]]\n",
            "-0.12732487886953528\n",
            "[-0.37584681  0.81039291  0.41802935]\n",
            "[[ 0.58952122 -0.3582913  -0.09100586]\n",
            " [-0.79496324 -0.717415   -0.7076248 ]\n",
            " [-0.14317186 -0.59744712  0.70070327]]\n"
          ]
        }
      ]
    },
    {
      "cell_type": "code",
      "source": [],
      "metadata": {
        "id": "BmMsK2iAK1TJ"
      },
      "execution_count": null,
      "outputs": []
    }
  ]
}