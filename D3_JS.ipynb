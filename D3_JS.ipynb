{
  "nbformat": 4,
  "nbformat_minor": 0,
  "metadata": {
    "colab": {
      "provenance": []
    },
    "kernelspec": {
      "name": "python3",
      "display_name": "Python 3"
    },
    "language_info": {
      "name": "python"
    }
  },
  "cells": [
    {
      "cell_type": "markdown",
      "source": [
        "# D3 JS"
      ],
      "metadata": {
        "id": "4USHNe2nH_YX"
      }
    },
    {
      "cell_type": "markdown",
      "source": [
        "## 1) Import Libraries"
      ],
      "metadata": {
        "id": "IhwWmJMxIGg1"
      }
    },
    {
      "cell_type": "code",
      "execution_count": null,
      "metadata": {
        "id": "DwjBCXPzH-rg"
      },
      "outputs": [],
      "source": [
        "import pandas as pd\n",
        "import numpy as np"
      ]
    },
    {
      "cell_type": "markdown",
      "source": [
        "## 2) Import Datasets"
      ],
      "metadata": {
        "id": "dj-1xlnSKuLi"
      }
    },
    {
      "cell_type": "code",
      "source": [
        "dataset = pd.read_csv('https://archive.ics.uci.edu/ml/machine-learning-databases/tae/tae.data', header = None)"
      ],
      "metadata": {
        "id": "aWHCjsYbMxpF"
      },
      "execution_count": null,
      "outputs": []
    },
    {
      "cell_type": "markdown",
      "source": [
        "## 3) Import HTML in Python"
      ],
      "metadata": {
        "id": "mQmNjnOlMuPt"
      }
    },
    {
      "cell_type": "code",
      "source": [
        "from IPython.core.display import HTML\n",
        "from string import Template\n",
        "import json, random"
      ],
      "metadata": {
        "id": "sjx1cSegKqQC"
      },
      "execution_count": null,
      "outputs": []
    },
    {
      "cell_type": "code",
      "source": [
        "# render sample html code\n",
        "HTML('''\n",
        "    <h1>Hello HTML!</h1>\n",
        "    <p style=\"color:blue\">This is a test <b>data</b></p>\n",
        "''')"
      ],
      "metadata": {
        "colab": {
          "base_uri": "https://localhost:8080/",
          "height": 100
        },
        "id": "UOJSO4PTK0pf",
        "outputId": "2d875b8e-c45d-4c05-c359-94284a9ed128"
      },
      "execution_count": null,
      "outputs": [
        {
          "output_type": "execute_result",
          "data": {
            "text/plain": [
              "<IPython.core.display.HTML object>"
            ],
            "text/html": [
              "\n",
              "    <h1>Hello HTML!</h1>\n",
              "    <p style=\"color:blue\">This is a test <b>data</b></p>\n"
            ]
          },
          "metadata": {},
          "execution_count": 4
        }
      ]
    },
    {
      "cell_type": "code",
      "source": [
        "# helper function for d3js :‘register’ a bit (or a lot) of code to be run prior to every cell’s formal execution for the user.\n",
        "def load_d3_in_cell_output():\n",
        "  display(HTML(\"<script src='https://d3js.org/d3.v7.min.js'></script>\"))\n",
        "  get_ipython().events.register('pre_run_cell', load_d3_in_cell_output)"
      ],
      "metadata": {
        "id": "NPWerRMEZXt4"
      },
      "execution_count": null,
      "outputs": []
    },
    {
      "cell_type": "code",
      "source": [
        "HTML('''\n",
        "<!-- Apply specific style to the elements that have the class `inGreen` -->\n",
        "<style>\n",
        "  .inGreen { color: green; }\n",
        "</style>\n",
        "\n",
        "<!-- Add a title. Note that the class 'inGreen' is given to this title -->\n",
        "<h1 class=\"inGreen\">First html document</h1>\n",
        "\n",
        "<!-- Add a bit of text -->\n",
        "<p>This is my first sentence</p>\n",
        "\n",
        "<!-- Add a link -->\n",
        "<p>This is <a href=\"https://www.d3-graph-gallery.com\">a link to the d3 graph gallery</a></p>\n",
        " ''')"
      ],
      "metadata": {
        "colab": {
          "base_uri": "https://localhost:8080/",
          "height": 123
        },
        "id": "E3FZlYqDEW9D",
        "outputId": "13f386bc-e537-45a8-bdfd-70fbde85f5f5"
      },
      "execution_count": null,
      "outputs": [
        {
          "output_type": "execute_result",
          "data": {
            "text/plain": [
              "<IPython.core.display.HTML object>"
            ],
            "text/html": [
              "\n",
              "<!-- Apply specific style to the elements that have the class `inGreen` -->\n",
              "<style>\n",
              "  .inGreen { color: green; }\n",
              "</style>\n",
              "\n",
              "<!-- Add a title. Note that the class 'inGreen' is given to this title -->\n",
              "<h1 class=\"inGreen\">First html document</h1>\n",
              "\n",
              "<!-- Add a bit of text -->\n",
              "<p>This is my first sentence</p>\n",
              "\n",
              "<!-- Add a link -->\n",
              "<p>This is <a href=\"https://www.d3-graph-gallery.com\">a link to the d3 graph gallery</a></p>\n",
              " "
            ]
          },
          "metadata": {},
          "execution_count": 18
        }
      ]
    },
    {
      "cell_type": "code",
      "source": [
        "HTML('''<!-- Add a title -->\n",
        "<h1>First html document</h1>\n",
        "\n",
        "<!-- Add a bit of text -->\n",
        "<p>This is my first sentence</p>\n",
        "\n",
        "<!-- Add a svg shape -->\n",
        "<svg>\n",
        "  <circle class=\"target\" style=\"fill: #69b3a2\" stroke=\"black\" cx=90 cy=50 r=50></circle>\n",
        "</svg>\n",
        "<!-- modifying using script -->\n",
        "<!-- Load d3.js -->\n",
        "<script src=\"https://d3js.org/d3.v4.js\"></script>\n",
        "<script>\n",
        "  d3\n",
        "    .select('.target') // select the elements that have the class 'target'\n",
        "    .style(\"stroke-width\",8) // change their style:\n",
        "</script>\n",
        "\n",
        "\n",
        "\n",
        "\n",
        "''')"
      ],
      "metadata": {
        "colab": {
          "base_uri": "https://localhost:8080/",
          "height": 254
        },
        "id": "HeKeX4ixZmG4",
        "outputId": "52a88ba2-4270-4030-d805-725b61b4b8d8"
      },
      "execution_count": null,
      "outputs": [
        {
          "output_type": "execute_result",
          "data": {
            "text/plain": [
              "<IPython.core.display.HTML object>"
            ],
            "text/html": [
              "<!-- Add a title -->\n",
              "<h1>First html document</h1>\n",
              "\n",
              "<!-- Add a bit of text -->\n",
              "<p>This is my first sentence</p>\n",
              "\n",
              "<!-- Add a svg shape -->\n",
              "<svg>\n",
              "  <circle class=\"target\" style=\"fill: #69b3a2\" stroke=\"black\" cx=90 cy=50 r=50></circle>\n",
              "</svg>\n",
              "<!-- modifying using script -->\n",
              "<!-- Load d3.js -->\n",
              "<script src=\"https://d3js.org/d3.v4.js\"></script>\n",
              "<script>\n",
              "  d3\n",
              "    .select('.target') // select the elements that have the class 'target'\n",
              "    .style(\"stroke-width\",8) // change their style:\n",
              "</script>\n",
              "\n",
              "<script>\n",
              "// Select the svg area\n",
              "var svg = d3.select(\"#viz_area\")\n",
              "\n",
              "// Create a scale: transform value in pixel\n",
              "var x = d3.scaleLinear()\n",
              "    .domain([0, 100])         // This is the min and the max of the data: 0 to 100 if percentages\n",
              "    .range([0, 400]);       // This is the corresponding value I want in Pixel\n",
              "// Try console.log( x(25) ) to see what this x function does.\n",
              "\n",
              "// Add 3 dots for 0, 50 and 100%\n",
              "svg.append(\"circle\")\n",
              "  .attr(\"cx\", x(10)).attr(\"cy\", 100).attr(\"r\", 40).style(\"fill\", \"blue\");\n",
              "svg.append(\"circle\")\n",
              "  .attr(\"cx\", x(50)).attr(\"cy\", 100).attr(\"r\", 40).style(\"fill\", \"red\");\n",
              "svg.append(\"circle\")\n",
              "  .attr(\"cx\", x(100)).attr(\"cy\", 100).attr(\"r\", 40).style(\"fill\", \"green\");\n",
              "</script>\n",
              "\n",
              "\n"
            ]
          },
          "metadata": {},
          "execution_count": 32
        }
      ]
    },
    {
      "cell_type": "code",
      "source": [
        "# modifying using d3\n",
        "HTML('''\n",
        "<!-- Add a svg area, empty -->\n",
        "<svg id=\"viz_area\" height=200 width=450 bgcolor='pink'></svg>\n",
        "<script src='https://d3js.org/d3.v7.min.js'></script>\n",
        "<script>\n",
        "// Select the svg area\n",
        "var svg = d3.select(\"#viz_area\")\n",
        "            .style(\"background-color\", '#C3F9FF')\n",
        "\n",
        "// Create a scale: transform value in pixel\n",
        "var x = d3.scaleLinear()\n",
        "    .domain([0, 100])         // This is the min and the max of the data: 0 to 100 if percentages\n",
        "    .range([0, 400]);       // This is the corresponding value I want in Pixel\n",
        "// Try console.log( x(25) ) to see what this x function does.\n",
        "\n",
        "// Add 3 dots for 0, 50 and 100%\n",
        "svg.append(\"circle\")\n",
        "  .attr(\"cx\", x(20)).attr(\"cy\", 100).attr(\"r\", 40).style(\"fill\", \"blue\");\n",
        "svg.append(\"circle\")\n",
        "  .attr(\"cx\", x(60)).attr(\"cy\", 100).attr(\"r\", 40).style(\"fill\", \"red\");\n",
        "svg.append(\"circle\")\n",
        "  .attr(\"cx\", x(100)).attr(\"cy\", 100).attr(\"r\", 40).style(\"fill\", \"green\");\n",
        "</script>\n",
        "'''\n",
        ")"
      ],
      "metadata": {
        "colab": {
          "base_uri": "https://localhost:8080/",
          "height": 221
        },
        "id": "56qaWulpaVMy",
        "outputId": "cfb5f9f7-57c4-404f-ce65-ea5281d2ba4f"
      },
      "execution_count": null,
      "outputs": [
        {
          "output_type": "execute_result",
          "data": {
            "text/plain": [
              "<IPython.core.display.HTML object>"
            ],
            "text/html": [
              "\n",
              "<!-- Add a svg area, empty -->\n",
              "<svg id=\"viz_area\" height=200 width=450 bgcolor='pink'></svg>\n",
              "<script src='https://d3js.org/d3.v7.min.js'></script>\n",
              "<script>\n",
              "// Select the svg area\n",
              "var svg = d3.select(\"#viz_area\")\n",
              "            .style(\"background-color\", '#C3F9FF')\n",
              "\n",
              "// Create a scale: transform value in pixel\n",
              "var x = d3.scaleLinear()\n",
              "    .domain([0, 100])         // This is the min and the max of the data: 0 to 100 if percentages\n",
              "    .range([0, 400]);       // This is the corresponding value I want in Pixel\n",
              "// Try console.log( x(25) ) to see what this x function does.\n",
              "\n",
              "// Add 3 dots for 0, 50 and 100%\n",
              "svg.append(\"circle\")\n",
              "  .attr(\"cx\", x(20)).attr(\"cy\", 100).attr(\"r\", 40).style(\"fill\", \"blue\");\n",
              "svg.append(\"circle\")\n",
              "  .attr(\"cx\", x(60)).attr(\"cy\", 100).attr(\"r\", 40).style(\"fill\", \"red\");\n",
              "svg.append(\"circle\")\n",
              "  .attr(\"cx\", x(100)).attr(\"cy\", 100).attr(\"r\", 40).style(\"fill\", \"green\");\n",
              "</script>\n"
            ]
          },
          "metadata": {},
          "execution_count": 47
        }
      ]
    },
    {
      "cell_type": "code",
      "source": [
        "# modifying using d3\n",
        "HTML('''\n",
        "<!-- Add a svg area, empty -->\n",
        "<svg id=\"viz_area\" height=200 width=450 bgcolor='pink'></svg>\n",
        "<script src='https://d3js.org/d3.v7.min.js'></script>\n",
        "<script>\n",
        "// Select the svg area\n",
        "var svg = d3.select(\"#viz_area\")\n",
        "            .style(\"background-color\", '#C3F9FF')\n",
        "// Create a scale: transform value in pixel\n",
        "var x = d3.scaleLinear()\n",
        "    .domain([0, 100])         // This is the min and the max of the data: 0 to 100 if percentages\n",
        "    .range([0, 400])\n",
        "   ;       // This is the corresponding value I want in Pixel\n",
        "\n",
        "// Show the axis that corresponds to this scale\n",
        "svg.call(d3.axisBottom(x));\n",
        "\n",
        "// Create a scale: transform value in pixel\n",
        "var x = d3.scaleLinear()\n",
        "    .domain([0, 100])         // This is the min and the max of the data: 0 to 100 if percentages\n",
        "    .range([0, 400])\n",
        "    ;       // This is the corresponding value I want in Pixel\n",
        "// Try console.log( x(25) ) to see what this x function does.\n",
        "\n",
        "// Add 3 dots for 0, 50 and 100%\n",
        "svg.append(\"circle\")\n",
        "  .attr(\"cx\", x(20)).attr(\"cy\", 100).attr(\"r\", 40).style(\"fill\", \"blue\");\n",
        "svg.append(\"circle\")\n",
        "  .attr(\"cx\", x(60)).attr(\"cy\", 100).attr(\"r\", 40).style(\"fill\", \"red\");\n",
        "svg.append(\"circle\")\n",
        "  .attr(\"cx\", x(100)).attr(\"cy\", 100).attr(\"r\", 40).style(\"fill\", \"green\");\n",
        "</script>\n",
        "'''\n",
        ")"
      ],
      "metadata": {
        "colab": {
          "base_uri": "https://localhost:8080/",
          "height": 221
        },
        "id": "WweLuhvXeMZu",
        "outputId": "2b919947-fd64-4317-9115-2ca31f8b62ff"
      },
      "execution_count": null,
      "outputs": [
        {
          "output_type": "execute_result",
          "data": {
            "text/plain": [
              "<IPython.core.display.HTML object>"
            ],
            "text/html": [
              "\n",
              "<!-- Add a svg area, empty -->\n",
              "<svg id=\"viz_area\" height=200 width=450 bgcolor='pink'></svg>\n",
              "<script src='https://d3js.org/d3.v7.min.js'></script>\n",
              "<script>\n",
              "// Select the svg area\n",
              "var svg = d3.select(\"#viz_area\")\n",
              "            .style(\"background-color\", '#C3F9FF')\n",
              "// Create a scale: transform value in pixel\n",
              "var x = d3.scaleLinear()\n",
              "    .domain([0, 100])         // This is the min and the max of the data: 0 to 100 if percentages\n",
              "    .range([0, 400])\n",
              "   ;       // This is the corresponding value I want in Pixel\n",
              "\n",
              "// Show the axis that corresponds to this scale\n",
              "svg.call(d3.axisBottom(x));\n",
              "\n",
              "// Create a scale: transform value in pixel\n",
              "var x = d3.scaleLinear()\n",
              "    .domain([0, 100])         // This is the min and the max of the data: 0 to 100 if percentages\n",
              "    .range([0, 400])\n",
              "    ;       // This is the corresponding value I want in Pixel\n",
              "// Try console.log( x(25) ) to see what this x function does.\n",
              "\n",
              "// Add 3 dots for 0, 50 and 100%\n",
              "svg.append(\"circle\")\n",
              "  .attr(\"cx\", x(20)).attr(\"cy\", 100).attr(\"r\", 40).style(\"fill\", \"blue\");\n",
              "svg.append(\"circle\")\n",
              "  .attr(\"cx\", x(60)).attr(\"cy\", 100).attr(\"r\", 40).style(\"fill\", \"red\");\n",
              "svg.append(\"circle\")\n",
              "  .attr(\"cx\", x(100)).attr(\"cy\", 100).attr(\"r\", 40).style(\"fill\", \"green\");\n",
              "</script>\n"
            ]
          },
          "metadata": {},
          "execution_count": 62
        }
      ]
    },
    {
      "cell_type": "code",
      "source": [
        "# modifying using d3\n",
        "HTML('''\n",
        "<!-- Add a svg area, empty -->\n",
        "<svg id=\"Area\" width= 450 height = 450></svg>\n",
        "<script src='https://d3js.org/d3.v7.min.js'></script>\n",
        "\n",
        "<script>\n",
        "// set the dimensions and margins of the graph\n",
        "var margin = {top: 10, right: 40, bottom: 30, left: 30},\n",
        "    width = 450 - margin.left - margin.right,\n",
        "    height = 400 - margin.top - margin.bottom;\n",
        "\n",
        "// append the svg object to the body of the page\n",
        "var sVg = d3.select(\"#Area\")\n",
        "  .append(\"svg\")\n",
        "    .attr(\"width\", width + margin.left + margin.right)\n",
        "    .attr(\"height\", height + margin.top + margin.bottom)\n",
        "  // translate this svg element to leave some margin.\n",
        "  .append(\"g\")\n",
        "    .attr(\"transform\", \"translate(\" + margin.left + \",\" + margin.top + \")\");\n",
        "\n",
        "// X scale and Axis\n",
        "var x = d3.scaleLinear()\n",
        "    .domain([0, 100])         // This is the min and the max of the data: 0 to 100 if percentages\n",
        "    .range([0, width]);  \n",
        "         // This is the corresponding value I want in Pixel\n",
        "sVg\n",
        "  .append('g')\n",
        "  .attr(\"transform\", \"translate(0,\" + height + \")\")\n",
        "  .call(d3.axisBottom(x));\n",
        "\n",
        "// X scale and Axis\n",
        "var y = d3.scaleLinear()\n",
        "    .domain([0, 100])         // This is the min and the max of the data: 0 to 100 if percentages\n",
        "    .range([height, 0]);       // This is the corresponding value I want in Pixel\n",
        "sVg\n",
        "  .append('g')\n",
        "  .call(d3.axisLeft(y));\n",
        "\n",
        "</script>\n",
        "\n",
        "'''\n",
        ")"
      ],
      "metadata": {
        "colab": {
          "base_uri": "https://localhost:8080/",
          "height": 471
        },
        "id": "fTPEt7Jpg37b",
        "outputId": "98dbcc77-de48-4795-e8fc-aac0e212ff4b"
      },
      "execution_count": null,
      "outputs": [
        {
          "output_type": "execute_result",
          "data": {
            "text/plain": [
              "<IPython.core.display.HTML object>"
            ],
            "text/html": [
              "\n",
              "<!-- Add a svg area, empty -->\n",
              "<svg id=\"Area\" width= 450 height = 450></svg>\n",
              "<script src='https://d3js.org/d3.v7.min.js'></script>\n",
              "\n",
              "<script>\n",
              "// set the dimensions and margins of the graph\n",
              "var margin = {top: 10, right: 40, bottom: 30, left: 30},\n",
              "    width = 450 - margin.left - margin.right,\n",
              "    height = 400 - margin.top - margin.bottom;\n",
              "\n",
              "// append the svg object to the body of the page\n",
              "var sVg = d3.select(\"#Area\")\n",
              "  .append(\"svg\")\n",
              "    .attr(\"width\", width + margin.left + margin.right)\n",
              "    .attr(\"height\", height + margin.top + margin.bottom)\n",
              "  // translate this svg element to leave some margin.\n",
              "  .append(\"g\")\n",
              "    .attr(\"transform\", \"translate(\" + margin.left + \",\" + margin.top + \")\");\n",
              "\n",
              "// X scale and Axis\n",
              "var x = d3.scaleLinear()\n",
              "    .domain([0, 100])         // This is the min and the max of the data: 0 to 100 if percentages\n",
              "    .range([0, width]);       // This is the corresponding value I want in Pixel\n",
              "sVg\n",
              "  .append('g')\n",
              "  .attr(\"transform\", \"translate(0,\" + height + \")\")\n",
              "  .call(d3.axisBottom(x));\n",
              "\n",
              "// X scale and Axis\n",
              "var y = d3.scaleLinear()\n",
              "    .domain([0, 100])         // This is the min and the max of the data: 0 to 100 if percentages\n",
              "    .range([height, 0]);       // This is the corresponding value I want in Pixel\n",
              "sVg\n",
              "  .append('g')\n",
              "  .call(d3.axisLeft(y));\n",
              "\n",
              "</script>\n",
              "\n"
            ]
          },
          "metadata": {},
          "execution_count": 83
        }
      ]
    },
    {
      "cell_type": "code",
      "source": [
        "# modifying using d3\n",
        "HTML('''\n",
        "<!-- Add a svg area, empty -->\n",
        "<svg id=\"scatter_area\" width= 450 height = 450></svg>\n",
        "<script src='https://d3js.org/d3.v7.min.js'></script>\n",
        "<script>\n",
        "\n",
        "// set the dimensions and margins of the graph\n",
        "var margin = {top: 10, right: 40, bottom: 30, left: 30},\n",
        "    width = 450 - margin.left - margin.right,\n",
        "    height = 400 - margin.top - margin.bottom;\n",
        "\n",
        "// append the svg object to the body of the page\n",
        "var svG = d3.select(\"#scatter_area\")\n",
        "  .append(\"svg\")\n",
        "    .attr(\"width\", width + margin.left + margin.right)\n",
        "    .attr(\"height\", height + margin.top + margin.bottom)\n",
        "  .append(\"g\")\n",
        "    .attr(\"transform\",\n",
        "          \"translate(\" + margin.left + \",\" + margin.top + \")\");\n",
        "\n",
        "// Create data\n",
        "var data = [ {x:10, y:20}, {x:40, y:90}, {x:80, y:50} ]\n",
        "\n",
        "// X scale and Axis\n",
        "var x = d3.scaleLinear()\n",
        "    .domain([0, 100])         // This is the min and the max of the data: 0 to 100 if percentages\n",
        "    .range([0, width]);       // This is the corresponding value I want in Pixel\n",
        "svG\n",
        "  .append('g')\n",
        "  .attr(\"transform\", \"translate(0,\" + height + \")\")\n",
        "  .call(d3.axisBottom(x));\n",
        "\n",
        "// X scale and Axis\n",
        "var y = d3.scaleLinear()\n",
        "    .domain([0, 100])         // This is the min and the max of the data: 0 to 100 if percentages\n",
        "    .range([height, 0]);       // This is the corresponding value I want in Pixel\n",
        "svG\n",
        "  .append('g')\n",
        "  .call(d3.axisLeft(y));\n",
        "\n",
        "// Add 3 dots for 0, 50 and 100%\n",
        "svG\n",
        "  .selectAll(\"whatever\")\n",
        "  .data(data)\n",
        "  .enter()\n",
        "  .append(\"circle\")\n",
        "    .attr(\"cx\", function(d){ return x(d.x) })\n",
        "    .attr(\"cy\", function(d){ return y(d.y) })\n",
        "    .attr(\"r\", 7)\n",
        "\n",
        "\n",
        "</script>\n",
        "\n",
        "''')"
      ],
      "metadata": {
        "colab": {
          "base_uri": "https://localhost:8080/",
          "height": 471
        },
        "id": "IuXumM8xn4Tt",
        "outputId": "530f417d-a54a-4302-94e2-7ed1cf4dd774"
      },
      "execution_count": null,
      "outputs": [
        {
          "output_type": "execute_result",
          "data": {
            "text/plain": [
              "<IPython.core.display.HTML object>"
            ],
            "text/html": [
              "\n",
              "<!-- Add a svg area, empty -->\n",
              "<svg id=\"scatter_area\" width= 450 height = 450></svg>\n",
              "<script src='https://d3js.org/d3.v7.min.js'></script>\n",
              "<script>\n",
              "\n",
              "// set the dimensions and margins of the graph\n",
              "var margin = {top: 10, right: 40, bottom: 30, left: 30},\n",
              "    width = 450 - margin.left - margin.right,\n",
              "    height = 400 - margin.top - margin.bottom;\n",
              "\n",
              "// append the svg object to the body of the page\n",
              "var svG = d3.select(\"#scatter_area\")\n",
              "  .append(\"svg\")\n",
              "    .attr(\"width\", width + margin.left + margin.right)\n",
              "    .attr(\"height\", height + margin.top + margin.bottom)\n",
              "  .append(\"g\")\n",
              "    .attr(\"transform\",\n",
              "          \"translate(\" + margin.left + \",\" + margin.top + \")\");\n",
              "\n",
              "// Create data\n",
              "var data = [ {x:10, y:20}, {x:40, y:90}, {x:80, y:50} ]\n",
              "\n",
              "// X scale and Axis\n",
              "var x = d3.scaleLinear()\n",
              "    .domain([0, 100])         // This is the min and the max of the data: 0 to 100 if percentages\n",
              "    .range([0, width]);       // This is the corresponding value I want in Pixel\n",
              "svG\n",
              "  .append('g')\n",
              "  .attr(\"transform\", \"translate(0,\" + height + \")\")\n",
              "  .call(d3.axisBottom(x));\n",
              "\n",
              "// X scale and Axis\n",
              "var y = d3.scaleLinear()\n",
              "    .domain([0, 100])         // This is the min and the max of the data: 0 to 100 if percentages\n",
              "    .range([height, 0]);       // This is the corresponding value I want in Pixel\n",
              "svG\n",
              "  .append('g')\n",
              "  .call(d3.axisLeft(y));\n",
              "\n",
              "// Add 3 dots for 0, 50 and 100%\n",
              "svG\n",
              "  .selectAll(\"whatever\")\n",
              "  .data(data)\n",
              "  .enter()\n",
              "  .append(\"circle\")\n",
              "    .attr(\"cx\", function(d){ return x(d.x) })\n",
              "    .attr(\"cy\", function(d){ return y(d.y) })\n",
              "    .attr(\"r\", 7)\n",
              "\n",
              "\n",
              "</script>\n",
              "\n"
            ]
          },
          "metadata": {},
          "execution_count": 85
        }
      ]
    },
    {
      "cell_type": "code",
      "source": [
        "#HTML templet\n",
        "html_template = Template('''\n",
        "<style> $css_text </style>\n",
        "<div id=\"graph-div\"></div>\n",
        "<script> $js_text </script>\n",
        "''')"
      ],
      "metadata": {
        "id": "LJnk3mjPv7Fl"
      },
      "execution_count": null,
      "outputs": []
    },
    {
      "cell_type": "code",
      "source": [
        "# Css templet\n",
        "css_text = '''\n",
        "\n",
        ".bar {\n",
        "  fill: steelblue;\n",
        "}\n",
        "\n",
        ".bar:hover {\n",
        "  fill: brown;\n",
        "}\n",
        "\n",
        ".axis {\n",
        "  font: 10px sans-serif;\n",
        "}\n",
        "\n",
        ".axis path,\n",
        ".axis line {\n",
        "  fill: none;\n",
        "  stroke: #000;\n",
        "  shape-rendering: crispEdges;\n",
        "}\n",
        "\n",
        ".x.axis path {\n",
        "  display: none;\n",
        "}\n",
        "\n",
        "'''"
      ],
      "metadata": {
        "id": "r1EZXxO_wA9V"
      },
      "execution_count": null,
      "outputs": []
    },
    {
      "cell_type": "code",
      "source": [
        "#Java script templet\n",
        "js_text_template = Template('''\n",
        "// set the dimensions and margins of the graph\n",
        "var margin = {top: 20, right: 20, bottom: 30, left: 40},\n",
        "    width = 960 - margin.left - margin.right,\n",
        "    height = 500 - margin.top - margin.bottom;\n",
        "\n",
        "// set the ranges\n",
        "var x = d3.scaleBand()\n",
        "          .range([0, width])\n",
        "          .padding(0.1);\n",
        "var y = d3.scaleLinear()\n",
        "          .range([height, 0]);\n",
        "          \n",
        "// append the svg object to the body of the page\n",
        "// append a 'group' element to 'svg'\n",
        "// moves the 'group' element to the top left margin\n",
        "var svg = d3.select(\"body\").append(\"svg\")\n",
        "    .attr(\"width\", width + margin.left + margin.right)\n",
        "    .attr(\"height\", height + margin.top + margin.bottom)\n",
        "  .append(\"g\")\n",
        "    .attr(\"transform\", \n",
        "          \"translate(\" + margin.left + \",\" + margin.top + \")\");\n",
        "\n",
        "// get the data\n",
        "d3.csv(dataset, function(error, data) {\n",
        "  if (error) throw error;\n",
        "\n",
        "  // format the data\n",
        "  data.forEach(function(d) {\n",
        "    d.sales = +d.sales;\n",
        "  });\n",
        "\n",
        "  // Scale the range of the data in the domains\n",
        "  x.domain(data.map(function(d) { return d.salesperson; }));\n",
        "  y.domain([0, d3.max(data, function(d) { return d.sales; })]);\n",
        "\n",
        "  // append the rectangles for the bar chart\n",
        "  svg.selectAll(\".bar\")\n",
        "      .data(data)\n",
        "    .enter().append(\"rect\")\n",
        "      .attr(\"class\", \"bar\")\n",
        "      .attr(\"x\", function(d) { return x(d.salesperson); })\n",
        "      .attr(\"width\", x.bandwidth())\n",
        "      .attr(\"y\", function(d) { return y(d.sales); })\n",
        "      .attr(\"height\", function(d) { return height - y(d.sales); });\n",
        "\n",
        "  // add the x Axis\n",
        "  svg.append(\"g\")\n",
        "      .attr(\"transform\", \"translate(0,\" + height + \")\")\n",
        "      .call(d3.axisBottom(x));\n",
        "\n",
        "  // add the y Axis\n",
        "  svg.append(\"g\")\n",
        "      .call(d3.axisLeft(y));\n",
        "\n",
        "});\n",
        "\n",
        "''')"
      ],
      "metadata": {
        "id": "bgID_4ld_1bY"
      },
      "execution_count": null,
      "outputs": []
    },
    {
      "cell_type": "code",
      "source": [
        "js_text_template_2 = Template('''\n",
        "\n",
        "var bars = svg.selectAll(\".bar\").data($data);\n",
        "  \n",
        "bars\n",
        "  .transition()\n",
        "    .attr(\"y\", function(d) { return y(d.y); })\n",
        "    .attr(\"height\", function(d) { return height - y(d.y); });\n",
        "\n",
        "''')"
      ],
      "metadata": {
        "id": "umuikUnl_9Vs"
      },
      "execution_count": null,
      "outputs": []
    }
  ]
}